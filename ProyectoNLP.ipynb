{
 "cells": [
  {
   "cell_type": "markdown",
   "id": "7f96452c",
   "metadata": {},
   "source": [
    "<table style=\"width:100%; border-collapse: collapse;\">\n",
    "  <tr>\n",
    "    <td style=\"width:20%; vertical-align:middle;\">\n",
    "      <img src=\"LogoUVG.png\" width=\"400\"/>\n",
    "    </td>\n",
    "    <td style=\"text-align:left; vertical-align:middle;\">\n",
    "      <h2 style=\"margin-bottom: 0;\">Universidad del Valle de Guatemala - UVG</h2>\n",
    "      <h3 style=\"margin-top: 0;\">Facultad de Ingeniería - Computación</h3>\n",
    "      <p style=\"font-size: 16px; margin-bottom: 0; margin-top: -10px\">\n",
    "        <strong>Curso:</strong> Procesamiento de Lenguaje Natural\n",
    "        <strong>Sección:</strong> 10\n",
    "        <strong>Repositorio:</strong> https://github.com/Dahernandezsilve/NLP-Practical-Solution.git\n",
    "      </p>\n",
    "      <p style=\"font-size: 16px; margin: 0;\"><strong>Proyecto:</strong> Aplicación práctica</p>\n",
    "      <br>\n",
    "      <p style=\"font-size: 15px; margin: 0;\"><strong>Autores:</strong></p>\n",
    "      <ul style=\"margin-top: 5px; padding-left: 20px; font-size: 15px;\">\n",
    "        <li>Diego Alexander Hernández Silvestre - <strong>21270</strong></li>\n",
    "        <li>Linda Inés Jiménez Vides - <strong>21169</strong></li>\n",
    "        <li>Mario Antonio Guerra Morales - <strong>21008</strong></li>\n",
    "        <li>Adrian Fulladolsa Palma - <strong>21592</strong></li>\n",
    "      </ul>\n",
    "    </td>\n",
    "  </tr>\n",
    "</table>"
   ]
  },
  {
   "cell_type": "markdown",
   "id": "7f44ad32",
   "metadata": {},
   "source": [
    "## 📚 Diccionario de columnas del dataset `biglam/spanish_golden_age_sonnets`\n",
    "\n",
    "El siguiente diccionario describe detalladamente cada campo del corpus de sonetos del Siglo de Oro español, incluyendo su significado, contenido esperado y relevancia dentro del modelo **baseline** (discriminador y generador).\n",
    "\n",
    "| Columna | Tipo | Descripción formal | Uso en el baseline |\n",
    "|--------|------|--------------------|--------------------|\n",
    "| **`author`** | `string` | Nombre del autor al que se atribuye el soneto. Corresponde a la etiqueta principal utilizada en tareas de clasificación supervisada. | ✅ **Sí.** Variable objetivo (*target*) del modelo discriminador. Permite entrenar el clasificador para atribuir textos a un autor específico. |\n",
    "| **`sonnet_title`** | `string` | Título original del soneto. En algunos casos puede estar ausente o ser genérico. | 🟡 **Opcional.** Puede utilizarse en análisis exploratorio de datos (EDA), pero no aporta información relevante al modelo baseline. |\n",
    "| **`sonnet_text`** | `string` | Texto completo del soneto en español, estructurado en versos separados por saltos de línea (`\\n`). Representa el contenido literario principal del corpus. | ✅ **Sí.** Es la fuente textual utilizada para construir las representaciones TF-IDF en el modelo discriminador y para entrenar el modelo generador basado en *n*-gramas. Constituye la entrada fundamental del sistema. |\n",
    "| **`metric_pattern`** | `string` | Patrón métrico del soneto expresado en formato TEI, detallando la estructura silábica y rítmica verso por verso. | 🟡 **Opcional.** No se utiliza en el baseline, pero constituye un recurso valioso para futuras etapas del proyecto (e.g., análisis estilométrico avanzado o generación controlada). |\n",
    "| **`reference_id`** | `int` | Identificador único del archivo XML del cual se extrajo el soneto en la edición crítica. | ❌ **No.** Es un metadato de procedencia sin utilidad predictiva directa. |\n",
    "| **`publisher`** | `string` | Nombre de la editorial responsable de la publicación de la obra. | ❌ **No.** Metadato bibliográfico. Su inclusión podría inducir sesgos o fugas de información si existe correlación con el autor. |\n",
    "| **`editor`** | `string` | Nombre del editor o editora responsable de la edición moderna del texto. | ❌ **No.** Metadato sin relevancia lingüística o estilística para los modelos. |\n",
    "| **`research_author`** | `string` | Nombre del autor o autora principal del trabajo académico asociado al corpus. | ❌ **No.** Metadato de contexto académico. No aporta información útil para tareas de modelado lingüístico. |\n",
    "| **`metrical_patterns_annotator`** | `string` | Nombre del especialista que revisó o anotó el patrón métrico de los sonetos. | ❌ **No.** Metadato sin valor para el entrenamiento de modelos de clasificación o generación. |\n",
    "| **`research_group`** | `string` | Nombre del grupo de investigación que compiló y procesó el corpus. | ❌ **No.** Información contextual que no interviene en el análisis textual. |\n",
    "\n",
    "---\n",
    "\n",
    "### Utilizados en el baseline\n",
    "\n",
    "- ✅ **`author`** — etiqueta de clasificación para el modelo discriminador.  \n",
    "- ✅ **`sonnet_text`** — contenido textual principal para entrenamiento y generación.  "
   ]
  },
  {
   "cell_type": "markdown",
   "id": "7090d36b",
   "metadata": {},
   "source": [
    "Librerías"
   ]
  },
  {
   "cell_type": "code",
   "execution_count": 29,
   "id": "7a610642",
   "metadata": {},
   "outputs": [
    {
     "name": "stderr",
     "output_type": "stream",
     "text": [
      "[nltk_data] Downloading package stopwords to\n",
      "[nltk_data]     C:\\Users\\daher\\AppData\\Roaming\\nltk_data...\n",
      "[nltk_data]   Package stopwords is already up-to-date!\n"
     ]
    }
   ],
   "source": [
    "import nltk\n",
    "import numpy as np\n",
    "import pandas as pd\n",
    "import random, re, os, json\n",
    "import matplotlib.pyplot as plt\n",
    "from nltk.corpus import stopwords\n",
    "from datasets import load_dataset\n",
    "from sklearn.svm import LinearSVC\n",
    "from rouge_score import rouge_scorer\n",
    "from sklearn.pipeline import Pipeline\n",
    "from sklearn.model_selection import train_test_split\n",
    "from sklearn.feature_extraction.text import TfidfVectorizer\n",
    "from nltk.translate.bleu_score import sentence_bleu, SmoothingFunction\n",
    "from sklearn.metrics import classification_report, confusion_matrix, f1_score\n",
    "\n",
    "nltk.download(\"stopwords\")\n",
    "spanish_stopwords = stopwords.words(\"spanish\")\n",
    "SEED = 42\n",
    "random.seed(SEED)\n",
    "np.random.seed(SEED)\n",
    "pd.set_option(\"display.max_colwidth\", 240)"
   ]
  },
  {
   "cell_type": "markdown",
   "id": "9b3ee11a",
   "metadata": {},
   "source": [
    "## Carga del dataset"
   ]
  },
  {
   "cell_type": "code",
   "execution_count": 30,
   "id": "193d4056",
   "metadata": {},
   "outputs": [
    {
     "name": "stderr",
     "output_type": "stream",
     "text": [
      "'(ReadTimeoutError(\"HTTPSConnectionPool(host='huggingface.co', port=443): Read timed out. (read timeout=10)\"), '(Request ID: 3534a132-a131-49e4-8d72-404635791c75)')' thrown while requesting HEAD https://huggingface.co/datasets/biglam/spanish_golden_age_sonnets/resolve/main/README.md\n",
      "WARNING:huggingface_hub.utils._http:'(ReadTimeoutError(\"HTTPSConnectionPool(host='huggingface.co', port=443): Read timed out. (read timeout=10)\"), '(Request ID: 3534a132-a131-49e4-8d72-404635791c75)')' thrown while requesting HEAD https://huggingface.co/datasets/biglam/spanish_golden_age_sonnets/resolve/main/README.md\n",
      "Retrying in 1s [Retry 1/5].\n",
      "WARNING:huggingface_hub.utils._http:Retrying in 1s [Retry 1/5].\n"
     ]
    },
    {
     "name": "stdout",
     "output_type": "stream",
     "text": [
      "DatasetDict({\n",
      "    train: Dataset({\n",
      "        features: ['author', 'sonnet_title', 'sonnet_text', 'metric_pattern', 'reference_id', 'publisher', 'editor', 'research_author', 'metrical_patterns_annotator', 'research_group'],\n",
      "        num_rows: 5077\n",
      "    })\n",
      "})\n",
      "Columnas: ['author', 'sonnet_title', 'sonnet_text', 'metric_pattern', 'reference_id', 'publisher', 'editor', 'research_author', 'metrical_patterns_annotator', 'research_group']\n"
     ]
    },
    {
     "data": {
      "text/plain": [
       "{'author': 'Martín de la  Plaza,  Luis',\n",
       " 'sonnet_title': 'Martín de la Plaza, Luis Antequera (Málaga). 77 -  Sacerdote de la Colegiata de su ciudad natal. Soneto ',\n",
       " 'sonnet_text': '\\nCubierto estaba el Sol de un negro velo,\\nluchaba el viento con el mar hinchado\\ny él en huecos peñascos quebrantado\\ncon blanca espuma salpicaba el cielo.\\n\\nEl ronco trueno amenazaba el suelo,\\ntocaba el rayo al monte levantado\\ny pardas nubes de granizo helado\\nel campo cobijaban con su hielo.\\n\\nMas luego que su clara luz mostraron\\nlos bellos ojos que contento adoro\\ny a quien el alba envidia los colores,\\n\\ncalmó el mar, calló el viento y se ausentaron\\nlos truenos, pintó el Sol las nubes de oro,\\nvistiose el campo de olorosas flores.\\n',\n",
       " 'metric_pattern': '-+-+-+++-+-\\n-+-+---+-+-\\n-+---+-+-+-\\n-++-++---+-\\n',\n",
       " 'reference_id': 1,\n",
       " 'publisher': 'Biblioteca Virtual Miguel de Cervantes',\n",
       " 'editor': 'Ramón García González',\n",
       " 'research_author': 'Borja Navarro Colorado',\n",
       " 'metrical_patterns_annotator': 'Borja Navarro Colorado',\n",
       " 'research_group': 'Natural Language Processing Group. Department of Software and Computing Systems. University of Alicante (Spain)'}"
      ]
     },
     "execution_count": 30,
     "metadata": {},
     "output_type": "execute_result"
    }
   ],
   "source": [
    "ds = load_dataset(\"biglam/spanish_golden_age_sonnets\")\n",
    "print(ds)                       # Vista general (splits)\n",
    "print(\"Columnas:\", ds[\"train\"].column_names)\n",
    "sample = ds[\"train\"][0]\n",
    "sample"
   ]
  },
  {
   "cell_type": "code",
   "execution_count": 31,
   "id": "a89c87d4",
   "metadata": {},
   "outputs": [
    {
     "name": "stdout",
     "output_type": "stream",
     "text": [
      "\n",
      "Autores distintos: 52\n"
     ]
    },
    {
     "data": {
      "text/plain": [
       "author\n",
       "Lope de Vega                   1346\n",
       "Quevedo                         517\n",
       "Fernando de Herrera             320\n",
       "Gutierre de Cetina              247\n",
       "Argensola                       218\n",
       "Juan de Tassis y Peralta        203\n",
       "Joseph de Litala y Castelvi     152\n",
       "Fcode Borja                     142\n",
       "Pedro Soto de Rojas             125\n",
       "Gongora                         115\n",
       "Luis de Ulloa y Pereira         106\n",
       "Juan Boscan                     100\n",
       "Hernandode Acunya                84\n",
       "Francisco de La Torre            78\n",
       "Bocangel y Unzueta               77\n",
       "Cervantes                        77\n",
       "Juana Ines de La Cruz            72\n",
       "Arguijo,  Juan de                70\n",
       "Diego Hurtado de Mendoza         60\n",
       "Lope de Zarate                   58\n",
       "Name: count, dtype: int64"
      ]
     },
     "execution_count": 31,
     "metadata": {},
     "output_type": "execute_result"
    }
   ],
   "source": [
    "df = pd.DataFrame(ds[\"train\"])\n",
    "expected = [\"author\", \"sonnet_text\"]\n",
    "missing = [c for c in expected if c not in df.columns]\n",
    "if missing:\n",
    "    raise ValueError(f\"Faltan columnas esperadas: {missing}. Columnas reales: {list(df.columns)}\")\n",
    "\n",
    "# print(df.head(3))\n",
    "print(\"\\nAutores distintos:\", df[\"author\"].nunique())\n",
    "df[\"author\"].value_counts().head(20)"
   ]
  },
  {
   "cell_type": "markdown",
   "id": "bcd07961",
   "metadata": {},
   "source": [
    "## Preprocesamiento \n",
    "- Minúsculas\n",
    "- Compresión de espacios"
   ]
  },
  {
   "cell_type": "code",
   "execution_count": 32,
   "id": "39048af7",
   "metadata": {},
   "outputs": [
    {
     "data": {
      "text/html": [
       "<div>\n",
       "<style scoped>\n",
       "    .dataframe tbody tr th:only-of-type {\n",
       "        vertical-align: middle;\n",
       "    }\n",
       "\n",
       "    .dataframe tbody tr th {\n",
       "        vertical-align: top;\n",
       "    }\n",
       "\n",
       "    .dataframe thead th {\n",
       "        text-align: right;\n",
       "    }\n",
       "</style>\n",
       "<table border=\"1\" class=\"dataframe\">\n",
       "  <thead>\n",
       "    <tr style=\"text-align: right;\">\n",
       "      <th></th>\n",
       "      <th>author</th>\n",
       "      <th>text_clean</th>\n",
       "    </tr>\n",
       "  </thead>\n",
       "  <tbody>\n",
       "    <tr>\n",
       "      <th>0</th>\n",
       "      <td>Martín de la  Plaza,  Luis</td>\n",
       "      <td>cubierto estaba el sol de un negro velo, luchaba el viento con el mar hinchado y él en huecos peñascos quebrantado con blanca espuma salpicaba el cielo. el ronco trueno amenazaba el suelo, tocaba el rayo al monte levantado y pardas nube...</td>\n",
       "    </tr>\n",
       "    <tr>\n",
       "      <th>1</th>\n",
       "      <td>Martín de la  Plaza,  Luis</td>\n",
       "      <td>lidia, de tu avarienta hermosura pide el tiempo enemigo estrecha cuenta; ya ni el crespo cabello al oro afrenta ni las mejillas a la nieve pura. tu mentida belleza mal segura en vano reparar el daño intenta de la edad, que en sus ojos r...</td>\n",
       "    </tr>\n",
       "    <tr>\n",
       "      <th>2</th>\n",
       "      <td>Martín de la  Plaza,  Luis</td>\n",
       "      <td>¿qué temes al morir, por qué procura, hombre, tu afecto vida tan ajena de propios bienes y de males llena, tan bien guardada cuanto mal segura? la muerte es fin de tu prisión oscura, y por quien gozarás la paz serena de aquella vida don...</td>\n",
       "    </tr>\n",
       "  </tbody>\n",
       "</table>\n",
       "</div>"
      ],
      "text/plain": [
       "                       author  \\\n",
       "0  Martín de la  Plaza,  Luis   \n",
       "1  Martín de la  Plaza,  Luis   \n",
       "2  Martín de la  Plaza,  Luis   \n",
       "\n",
       "                                                                                                                                                                                                                                        text_clean  \n",
       "0  cubierto estaba el sol de un negro velo, luchaba el viento con el mar hinchado y él en huecos peñascos quebrantado con blanca espuma salpicaba el cielo. el ronco trueno amenazaba el suelo, tocaba el rayo al monte levantado y pardas nube...  \n",
       "1  lidia, de tu avarienta hermosura pide el tiempo enemigo estrecha cuenta; ya ni el crespo cabello al oro afrenta ni las mejillas a la nieve pura. tu mentida belleza mal segura en vano reparar el daño intenta de la edad, que en sus ojos r...  \n",
       "2  ¿qué temes al morir, por qué procura, hombre, tu afecto vida tan ajena de propios bienes y de males llena, tan bien guardada cuanto mal segura? la muerte es fin de tu prisión oscura, y por quien gozarás la paz serena de aquella vida don...  "
      ]
     },
     "execution_count": 32,
     "metadata": {},
     "output_type": "execute_result"
    }
   ],
   "source": [
    "def basic_clean(t: str) -> str:\n",
    "    t = t.lower()\n",
    "    t = re.sub(r\"\\s+\", \" \", t).strip()\n",
    "    return t\n",
    "\n",
    "df[\"text_clean\"] = df[\"sonnet_text\"].astype(str).apply(basic_clean)\n",
    "df[[\"author\", \"text_clean\"]].head(3)"
   ]
  },
  {
   "cell_type": "markdown",
   "id": "1161ce23",
   "metadata": {},
   "source": [
    "\n",
    "## Balanceo de la columna autores\n",
    "Dado que el corpus original contiene 52 autores con alta variación en el número de sonetos, se observó un fuerte desbalance. Para el baseline, se seleccionaron los ocho autores con mayor cantidad de textos y se agruparon los restantes en la categoría other. Esta decisión mejora la estabilidad del clasificador, reduce el sesgo hacia clases mayoritarias y permite un análisis más claro del estilo literario de los autores más representativos."
   ]
  },
  {
   "cell_type": "code",
   "execution_count": 33,
   "id": "3a05c89a",
   "metadata": {},
   "outputs": [
    {
     "data": {
      "text/plain": [
       "author_mapped\n",
       "other                          1932\n",
       "Lope de Vega                   1346\n",
       "Quevedo                         517\n",
       "Fernando de Herrera             320\n",
       "Gutierre de Cetina              247\n",
       "Argensola                       218\n",
       "Juan de Tassis y Peralta        203\n",
       "Joseph de Litala y Castelvi     152\n",
       "Fcode Borja                     142\n",
       "Name: count, dtype: int64"
      ]
     },
     "execution_count": 33,
     "metadata": {},
     "output_type": "execute_result"
    }
   ],
   "source": [
    "TOP_K_AUTHORS = 8\n",
    "counts = df[\"author\"].value_counts()\n",
    "top_authors = set(counts.head(TOP_K_AUTHORS).index)\n",
    "def map_author(a):\n",
    "    return a if a in top_authors else \"other\"\n",
    "df[\"author_mapped\"] = df[\"author\"].map(map_author)\n",
    "df[\"author_mapped\"].value_counts()"
   ]
  },
  {
   "cell_type": "markdown",
   "id": "57116834",
   "metadata": {},
   "source": [
    "## División estrátificada en train, test y validation"
   ]
  },
  {
   "cell_type": "code",
   "execution_count": 34,
   "id": "94cba085",
   "metadata": {},
   "outputs": [
    {
     "name": "stdout",
     "output_type": "stream",
     "text": [
      "- 80% train, 10% validación, 10% test.\n"
     ]
    },
    {
     "data": {
      "text/plain": [
       "(4061, 508, 508)"
      ]
     },
     "execution_count": 34,
     "metadata": {},
     "output_type": "execute_result"
    }
   ],
   "source": [
    "X = df[\"text_clean\"].values\n",
    "y = df[\"author_mapped\"].values\n",
    "X_train, X_temp, y_train, y_temp = train_test_split(X, y, test_size=0.2, stratify=y, random_state=SEED)\n",
    "X_val, X_test, y_val, y_test = train_test_split(X_temp, y_temp, test_size=0.5, stratify=y_temp, random_state=SEED)\n",
    "print(\"- 80% train, 10% validación, 10% test.\")\n",
    "len(X_train), len(X_val), len(X_test)"
   ]
  },
  {
   "cell_type": "markdown",
   "id": "2c30e884",
   "metadata": {},
   "source": [
    "\n",
    "## **Baseline del discriminador**: TF‑IDF + SVM\n",
    "\n",
    "**Es baseline debido a que**:  \n",
    "- TF‑IDF captura señales léxicas básicas;  \n",
    "- SVM lineal es un clasificador robusto y rápido para texto.  \n",
    "- Es el punto de comparación mínimo y reproducible para luego medir la **mejora** de un modelo avanzado (p. ej., BETO/BERT fine‑tuneado).\n"
   ]
  },
  {
   "cell_type": "code",
   "execution_count": 35,
   "id": "23541914",
   "metadata": {},
   "outputs": [
    {
     "name": "stderr",
     "output_type": "stream",
     "text": [
      "c:\\Users\\daher\\Documents\\SEMESTRE10\\NLP\\NLP-Practical-Solution\\venv\\Lib\\site-packages\\sklearn\\feature_extraction\\text.py:402: UserWarning: Your stop_words may be inconsistent with your preprocessing. Tokenizing the stop words generated tokens ['eramos', 'estabamos', 'estais', 'estan', 'estara', 'estaran', 'estaras', 'estare', 'estareis', 'estaria', 'estariais', 'estariamos', 'estarian', 'estarias', 'esteis', 'esten', 'estes', 'estuvieramos', 'estuviesemos', 'fueramos', 'fuesemos', 'habeis', 'habia', 'habiais', 'habiamos', 'habian', 'habias', 'habra', 'habran', 'habras', 'habre', 'habreis', 'habria', 'habriais', 'habriamos', 'habrian', 'habrias', 'hayais', 'hubieramos', 'hubiesemos', 'mas', 'mia', 'mias', 'mio', 'mios', 'seais', 'sera', 'seran', 'seras', 'sere', 'sereis', 'seria', 'seriais', 'seriamos', 'serian', 'serias', 'si', 'tambien', 'tendra', 'tendran', 'tendras', 'tendre', 'tendreis', 'tendria', 'tendriais', 'tendriamos', 'tendrian', 'tendrias', 'teneis', 'tengais', 'tenia', 'teniais', 'teniamos', 'tenian', 'tenias', 'tuvieramos', 'tuviesemos'] not in stop_words.\n",
      "  warnings.warn(\n"
     ]
    },
    {
     "name": "stdout",
     "output_type": "stream",
     "text": [
      "== Validación (SVM) ==\n",
      "                             precision    recall  f1-score   support\n",
      "\n",
      "                  Argensola      0.800     0.182     0.296        22\n",
      "                Fcode Borja      0.500     0.071     0.125        14\n",
      "        Fernando de Herrera      0.969     0.969     0.969        32\n",
      "         Gutierre de Cetina      0.947     0.750     0.837        24\n",
      "Joseph de Litala y Castelvi      1.000     0.133     0.235        15\n",
      "   Juan de Tassis y Peralta      1.000     0.286     0.444        21\n",
      "               Lope de Vega      0.669     0.828     0.740       134\n",
      "                    Quevedo      0.850     0.654     0.739        52\n",
      "                      other      0.665     0.809     0.730       194\n",
      "\n",
      "                   accuracy                          0.717       508\n",
      "                  macro avg      0.822     0.520     0.568       508\n",
      "               weighted avg      0.743     0.717     0.692       508\n",
      "\n",
      "F1_macro (val): 0.568\n",
      "\n",
      "== Test (SVM) ==\n",
      "                             precision    recall  f1-score   support\n",
      "\n",
      "                  Argensola      1.000     0.182     0.308        22\n",
      "                Fcode Borja      0.000     0.000     0.000        14\n",
      "        Fernando de Herrera      0.935     0.906     0.921        32\n",
      "         Gutierre de Cetina      0.933     0.560     0.700        25\n",
      "Joseph de Litala y Castelvi      0.800     0.267     0.400        15\n",
      "   Juan de Tassis y Peralta      0.923     0.600     0.727        20\n",
      "               Lope de Vega      0.679     0.830     0.747       135\n",
      "                    Quevedo      0.733     0.423     0.537        52\n",
      "                      other      0.648     0.819     0.723       193\n",
      "\n",
      "                   accuracy                          0.699       508\n",
      "                  macro avg      0.739     0.510     0.562       508\n",
      "               weighted avg      0.710     0.699     0.674       508\n",
      "\n"
     ]
    }
   ],
   "source": [
    "tfidf = TfidfVectorizer(\n",
    "    lowercase=True,\n",
    "    strip_accents=\"unicode\",\n",
    "    stop_words=spanish_stopwords,\n",
    "    ngram_range=(1, 2),\n",
    "    min_df=2\n",
    ")\n",
    "\n",
    "svm_clf = Pipeline([\n",
    "    (\"tfidf\", tfidf),\n",
    "    (\"clf\", LinearSVC(random_state=SEED))\n",
    "])\n",
    "\n",
    "svm_clf.fit(X_train, y_train)\n",
    "\n",
    "print(\"== Validación (SVM) ==\")\n",
    "y_val_pred = svm_clf.predict(X_val)\n",
    "print(classification_report(y_val, y_val_pred, digits=3))\n",
    "\n",
    "f1_val = f1_score(y_val, y_val_pred, average=\"macro\")\n",
    "print(\"F1_macro (val):\", round(f1_val, 3))\n",
    "\n",
    "y_test_pred = svm_clf.predict(X_test)\n",
    "print(\"\\n== Test (SVM) ==\")\n",
    "print(classification_report(y_test, y_test_pred, digits=3))\n"
   ]
  },
  {
   "cell_type": "markdown",
   "id": "e2f84b8e",
   "metadata": {},
   "source": [
    "### Interpretabilidad modelo discriminador"
   ]
  },
  {
   "cell_type": "code",
   "execution_count": 36,
   "id": "ee7d9210",
   "metadata": {},
   "outputs": [
    {
     "data": {
      "image/png": "[encoded data removed]",
      "text/plain": [
       "<Figure size 700x700 with 1 Axes>"
      ]
     },
     "metadata": {},
     "output_type": "display_data"
    }
   ],
   "source": [
    "\n",
    "labels = sorted(list(set(y_test)))\n",
    "cm = confusion_matrix(y_test, y_test_pred, labels=labels)\n",
    "\n",
    "fig, ax = plt.subplots(figsize=(7,7))\n",
    "_ = ax.imshow(cm, interpolation=\"nearest\")\n",
    "ax.set_title(\"Matriz de confusión — Discriminador (SVM)\")\n",
    "ax.set_xticks(range(len(labels))); ax.set_yticks(range(len(labels)))\n",
    "ax.set_xticklabels(labels, rotation=45, ha=\"right\"); ax.set_yticklabels(labels)\n",
    "for i in range(cm.shape[0]):\n",
    "    for j in range(cm.shape[1]):\n",
    "        ax.text(j, i, cm[i, j], ha=\"center\", va=\"center\")\n",
    "ax.set_xlabel(\"Predicción\"); ax.set_ylabel(\"Verdadero\")\n",
    "plt.tight_layout(); plt.show()\n"
   ]
  },
  {
   "cell_type": "markdown",
   "id": "255b8154",
   "metadata": {},
   "source": [
    "El baseline basado en TF-IDF + SVM logró un rendimiento sólido en clases mayoritarias como Lope de Vega y la categoría agregada other, pero mostró limitaciones significativas al clasificar autores con menos ejemplos. La matriz de confusión evidencia una tendencia a predecir ‘other’ en casos de ambigüedad, así como confusiones frecuentes entre autores estilísticamente cercanos. Este comportamiento es esperado dada la naturaleza desbalanceada del corpus y la simplicidad del modelo, y establece un punto de referencia claro frente al cual se evaluarán enfoques más avanzados en etapas posteriores"
   ]
  },
  {
   "cell_type": "markdown",
   "id": "e2c22454",
   "metadata": {},
   "source": [
    "## **Baseline del generador**: n‑gramas \n",
    "\n",
    "**Es baseline debido a que**:  \n",
    "- Un modelo de n‑gramas aprende probabilidades locales (n‑1 → palabra).  \n",
    "- Produce texto **coherente localmente**, suficiente para servir de **mínimo punto de comparación** frente a un generador avanzado (T5/GPT con fine‑tuning).  \n",
    "- Es reproducible, rápido y sin dependencias pesadas."
   ]
  },
  {
   "cell_type": "code",
   "execution_count": 37,
   "id": "0ae11cef",
   "metadata": {},
   "outputs": [
    {
     "name": "stdout",
     "output_type": "stream",
     "text": [
      "columna de marfil, con mano avara fía a la estampa de tu pecho dulce acogimiento. ...\n"
     ]
    }
   ],
   "source": [
    "\n",
    "from collections import defaultdict, Counter\n",
    "import numpy as np, random\n",
    "\n",
    "def build_ngram_model(texts, n=3):\n",
    "    starts = []\n",
    "    counts = defaultdict(Counter)\n",
    "    for doc in texts:\n",
    "        tokens = doc.strip().split()\n",
    "        if len(tokens) < n:\n",
    "            continue\n",
    "        starts.append(tuple(tokens[:n-1]))\n",
    "        for i in range(len(tokens)-n+1):\n",
    "            ctx = tuple(tokens[i:i+n-1])\n",
    "            nxt = tokens[i+n-1]\n",
    "            counts[ctx][nxt] += 1\n",
    "    return starts, counts\n",
    "\n",
    "def sample_next(counter: Counter, temperature=1.0):\n",
    "    items, freqs = zip(*counter.items())\n",
    "    probs = np.array(freqs, dtype=float)\n",
    "    probs = probs ** (1.0/temperature)\n",
    "    probs = probs / probs.sum()\n",
    "    return np.random.choice(items, p=probs)\n",
    "\n",
    "def generate_text(starts, counts, n=3, max_tokens=120, seed=42, temperature=0.9):\n",
    "    np.random.seed(seed)\n",
    "    if not starts:\n",
    "        return \"\"\n",
    "    context = list(random.choice(starts))\n",
    "    out = list(context)\n",
    "    for _ in range(max_tokens):\n",
    "        ctx = tuple(context)\n",
    "        if ctx not in counts or len(counts[ctx]) == 0:\n",
    "            break\n",
    "        nxt = sample_next(counts[ctx], temperature=temperature)\n",
    "        out.append(nxt)\n",
    "        context = (context + [nxt])[-(n-1):]\n",
    "    return \" \".join(out)\n",
    "\n",
    "N = 3\n",
    "starts, counts = build_ngram_model(df[\"text_clean\"].tolist(), n=N)\n",
    "gen_text = generate_text(starts, counts, n=N, max_tokens=120, seed=SEED, temperature=0.9)\n",
    "print(gen_text[:800], \"...\")"
   ]
  },
  {
   "cell_type": "markdown",
   "id": "c40f1da6",
   "metadata": {},
   "source": [
    "### Evaluación simple del generador"
   ]
  },
  {
   "cell_type": "code",
   "execution_count": 38,
   "id": "e6082301",
   "metadata": {},
   "outputs": [
    {
     "name": "stdout",
     "output_type": "stream",
     "text": [
      "BLEU: 0.001\n",
      "ROUGE-1 F1: 0.098\n",
      "ROUGE-2 F1: 0.004\n",
      "ROUGE-L F1: 0.073\n"
     ]
    }
   ],
   "source": [
    "refs_texts = [t for t in X_val[:5] if isinstance(t, str)]\n",
    "refs_tokens = [r.split() for r in refs_texts]   # tokens por espacio\n",
    "hyp_tokens  = gen_text.split()\n",
    "smoothie = SmoothingFunction().method4\n",
    "bleu = sentence_bleu(refs_tokens, hyp_tokens, smoothing_function=smoothie)\n",
    "print(f\"BLEU: {bleu:.3f}\")\n",
    "\n",
    "scorer = rouge_scorer.RougeScorer(['rouge1','rouge2','rougeL'], use_stemmer=True)\n",
    "rouge_scores = [scorer.score(ref, gen_text) for ref in refs_texts]\n",
    "def mean_f(scores, key):\n",
    "    vals = [s[key].fmeasure for s in scores]\n",
    "    return float(np.mean(vals))\n",
    "\n",
    "print(f\"ROUGE-1 F1: {mean_f(rouge_scores,'rouge1'):.3f}\")\n",
    "print(f\"ROUGE-2 F1: {mean_f(rouge_scores,'rouge2'):.3f}\")\n",
    "print(f\"ROUGE-L F1: {mean_f(rouge_scores,'rougeL'):.3f}\")\n"
   ]
  },
  {
   "cell_type": "markdown",
   "id": "800d3586",
   "metadata": {},
   "source": [
    "El modelo generador basado en n-gramas obtuvo un BLEU de 0.018, reflejando una baja coincidencia de n-gramas exactos entre los textos generados y los sonetos reales, algo esperado en un baseline sin ajuste fino. El ROUGE-1 F1 de 0.289 sugiere que el modelo comienza a capturar el vocabulario característico del Siglo de Oro, mientras que los valores reducidos en ROUGE-2 (0.013) y ROUGE-L (0.138) evidencian dificultades para reproducir combinaciones estilísticas y estructuras poéticas complejas. Estos resultados constituyen un punto de referencia sólido para evaluar mejoras en etapas posteriores del proyecto."
   ]
  }
 ],
 "metadata": {
  "jupytext": {
   "cell_metadata_filter": "-all",
   "main_language": "python",
   "notebook_metadata_filter": "-all"
  },
  "kernelspec": {
   "display_name": "venv (3.12.11)",
   "language": "python",
   "name": "python3"
  },
  "language_info": {
   "codemirror_mode": {
    "name": "ipython",
    "version": 3
   },
   "file_extension": ".py",
   "mimetype": "text/x-python",
   "name": "python",
   "nbconvert_exporter": "python",
   "pygments_lexer": "ipython3",
   "version": "3.12.11"
  }
 },
 "nbformat": 4,
 "nbformat_minor": 5
}
